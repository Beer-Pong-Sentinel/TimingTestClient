{
 "cells": [
  {
   "cell_type": "markdown",
   "metadata": {},
   "source": [
    "# Timing Test Simple Client"
   ]
  },
  {
   "cell_type": "code",
   "execution_count": 86,
   "metadata": {},
   "outputs": [
    {
     "name": "stdout",
     "output_type": "stream",
     "text": [
      "Defaulting to user installation because normal site-packages is not writeable\n",
      "Requirement already satisfied: pyserial in /Users/eldadzipori/Library/Python/3.9/lib/python/site-packages (3.5)\n",
      "\u001b[33mWARNING: You are using pip version 21.2.4; however, version 24.1.2 is available.\n",
      "You should consider upgrading via the '/Library/Developer/CommandLineTools/usr/bin/python3 -m pip install --upgrade pip' command.\u001b[0m\n",
      "Defaulting to user installation because normal site-packages is not writeable\n",
      "Collecting matplotlib\n",
      "  Downloading matplotlib-3.9.1-cp39-cp39-macosx_11_0_arm64.whl (7.8 MB)\n",
      "\u001b[K     |████████████████████████████████| 7.8 MB 10.3 MB/s eta 0:00:01\n",
      "\u001b[?25hCollecting fonttools>=4.22.0\n",
      "  Downloading fonttools-4.53.1-cp39-cp39-macosx_11_0_arm64.whl (2.2 MB)\n",
      "\u001b[K     |████████████████████████████████| 2.2 MB 13.6 MB/s eta 0:00:01\n",
      "\u001b[?25hCollecting importlib-resources>=3.2.0\n",
      "  Downloading importlib_resources-6.4.0-py3-none-any.whl (38 kB)\n",
      "Collecting cycler>=0.10\n",
      "  Downloading cycler-0.12.1-py3-none-any.whl (8.3 kB)\n",
      "Requirement already satisfied: python-dateutil>=2.7 in /Users/eldadzipori/Library/Python/3.9/lib/python/site-packages (from matplotlib) (2.8.2)\n",
      "Collecting numpy>=1.23\n",
      "  Downloading numpy-2.0.0-cp39-cp39-macosx_11_0_arm64.whl (13.3 MB)\n",
      "\u001b[K     |████████████████████████████████| 13.3 MB 528 kB/s eta 0:00:01\n",
      "\u001b[?25hCollecting pillow>=8\n",
      "  Downloading pillow-10.4.0-cp39-cp39-macosx_11_0_arm64.whl (3.4 MB)\n",
      "\u001b[K     |████████████████████████████████| 3.4 MB 7.3 MB/s eta 0:00:01\n",
      "\u001b[?25hRequirement already satisfied: packaging>=20.0 in /Users/eldadzipori/Library/Python/3.9/lib/python/site-packages (from matplotlib) (23.1)\n",
      "Collecting kiwisolver>=1.3.1\n",
      "  Downloading kiwisolver-1.4.5-cp39-cp39-macosx_11_0_arm64.whl (66 kB)\n",
      "\u001b[K     |████████████████████████████████| 66 kB 4.8 MB/s eta 0:00:01\n",
      "\u001b[?25hCollecting pyparsing>=2.3.1\n",
      "  Downloading pyparsing-3.1.2-py3-none-any.whl (103 kB)\n",
      "\u001b[K     |████████████████████████████████| 103 kB 2.2 MB/s eta 0:00:01\n",
      "\u001b[?25hCollecting contourpy>=1.0.1\n",
      "  Downloading contourpy-1.2.1-cp39-cp39-macosx_11_0_arm64.whl (244 kB)\n",
      "\u001b[K     |████████████████████████████████| 244 kB 4.2 MB/s eta 0:00:01\n",
      "\u001b[?25hRequirement already satisfied: zipp>=3.1.0 in /Users/eldadzipori/Library/Python/3.9/lib/python/site-packages (from importlib-resources>=3.2.0->matplotlib) (3.16.2)\n",
      "Requirement already satisfied: six>=1.5 in /Library/Developer/CommandLineTools/Library/Frameworks/Python3.framework/Versions/3.9/lib/python3.9/site-packages (from python-dateutil>=2.7->matplotlib) (1.15.0)\n",
      "Installing collected packages: numpy, pyparsing, pillow, kiwisolver, importlib-resources, fonttools, cycler, contourpy, matplotlib\n",
      "Successfully installed contourpy-1.2.1 cycler-0.12.1 fonttools-4.53.1 importlib-resources-6.4.0 kiwisolver-1.4.5 matplotlib-3.9.1 numpy-2.0.0 pillow-10.4.0 pyparsing-3.1.2\n",
      "\u001b[33mWARNING: You are using pip version 21.2.4; however, version 24.1.2 is available.\n",
      "You should consider upgrading via the '/Library/Developer/CommandLineTools/usr/bin/python3 -m pip install --upgrade pip' command.\u001b[0m\n"
     ]
    }
   ],
   "source": [
    "!pip3 install pyserial\n",
    "!pip3 install matplotlib"
   ]
  },
  {
   "cell_type": "markdown",
   "metadata": {},
   "source": [
    "## Constants and imports\n",
    "This must match the STM definitions"
   ]
  },
  {
   "cell_type": "code",
   "execution_count": 87,
   "metadata": {},
   "outputs": [],
   "source": [
    "import serial\n",
    "import matplotlib.pyplot as plt\n",
    "\n",
    "START_TEST        = 0b100\n",
    "BEFORE_SOLENOID   = 0b001\n",
    "AFTER_SOLENOID    = 0b010\n",
    "BEAM_READ         = 0b011 \n",
    "END_TEST          = 0b110   "
   ]
  },
  {
   "cell_type": "markdown",
   "metadata": {},
   "source": [
    "## Simple data collection\n",
    "Collects all data until an END_TEST is seen"
   ]
  },
  {
   "cell_type": "code",
   "execution_count": 79,
   "metadata": {},
   "outputs": [],
   "source": [
    "collected_data = []\n",
    "\n",
    "def read_data(ser):\n",
    "    stop = False\n",
    "    while not stop:\n",
    "        if ser.in_waiting >= 7:\n",
    "            data = ser.read(7)\n",
    "            identifier = (data[0] >> 5) & 0x07\n",
    "\n",
    "            if identifier == END_TEST:\n",
    "                stop = True\n",
    "            \n",
    "            delimiter = data[6] & 0xFF\n",
    "                \n",
    "            if delimiter == 0xFF:\n",
    "               # print(f\"Identifier: {identifier}, Analog Value: {analog_value}, Time: {time_micros}\")\n",
    "                collected_data.append(data)\n",
    "            else:\n",
    "                print(\"Delimiter not found, packet discarded.\")\n",
    "\n",
    "if __name__ == \"__main__\":\n",
    "    ser = serial.Serial('/dev/cu.usbserial-110', 9600)  # Adjust the port as needed\n",
    "    read_data(ser)\n"
   ]
  },
  {
   "cell_type": "code",
   "execution_count": 95,
   "metadata": {},
   "outputs": [],
   "source": [
    "identifiers = []\n",
    "analog_values = []\n",
    "time_micros = []\n",
    "\n",
    "for entry in collected_data:\n",
    "    identifier = (entry[0] >> 5) & 0x07\n",
    "\n",
    "    if identifier == BEAM_READ:\n",
    "        analog_value = ((entry[0] & 0x1F) << 5) | ((entry[1] >> 3) & 0x1F)\n",
    "    else:\n",
    "        analog_value = None\n",
    "    time_micro = (entry[2] << 24) | (entry[3] << 16) | (entry[4] << 8) | entry[5]\n",
    "\n",
    "    identifiers.append(identifier)\n",
    "    analog_values.append(analog_value)\n",
    "    time_micros.append(time_micro)\n",
    "\n",
    "\n",
    "time_micros = [x-time_micros[0] for x in time_micros]"
   ]
  },
  {
   "cell_type": "code",
   "execution_count": 92,
   "metadata": {},
   "outputs": [
    {
     "data": {
      "image/png": "[encoded data removed]",
      "text/plain": [
       "<Figure size 640x480 with 1 Axes>"
      ]
     },
     "metadata": {},
     "output_type": "display_data"
    }
   ],
   "source": [
    "\n",
    "# Plot each point with the specified style and color\n",
    "for identifier, analog_value, time_micro in zip(identifiers, analog_values, time_micros):\n",
    "    if identifier == \"START_TEST\":\n",
    "        plt.scatter(time_micro, analog_value, color='blue', marker='*', label='START_TEST' if 'START_TEST' not in plt.gca().get_legend_handles_labels()[1] else \"\")\n",
    "    elif identifier == \"END_TEST\":\n",
    "        plt.scatter(time_micro, analog_value, color='red', marker='*', label='END_TEST' if 'END_TEST' not in plt.gca().get_legend_handles_labels()[1] else \"\")\n",
    "    elif identifier == \"BEFORE_SOLENOID\":\n",
    "        plt.scatter(time_micro, analog_value, color='yellow', marker='s', label='BEFORE_SOLENOID' if 'BEFORE_SOLENOID' not in plt.gca().get_legend_handles_labels()[1] else \"\")\n",
    "    elif identifier == \"AFTER_SOLENOID\":\n",
    "        plt.scatter(time_micro, analog_value, color='green', marker='s', label='AFTER_SOLENOID' if 'AFTER_SOLENOID' not in plt.gca().get_legend_handles_labels()[1] else \"\")\n",
    "    else:\n",
    "        plt.scatter(time_micro, analog_value, color='black', marker='o', label='OTHER' if 'OTHER' not in plt.gca().get_legend_handles_labels()[1] else \"\")\n",
    "\n",
    "# Adding labels and title\n",
    "plt.xlabel('Time (microseconds)')\n",
    "plt.ylabel('Analog Value')\n",
    "plt.title('Analog Value vs. Time')\n",
    "plt.legend()\n",
    "plt.show()\n"
   ]
  }
 ],
 "metadata": {
  "kernelspec": {
   "display_name": "Python 3",
   "language": "python",
   "name": "python3"
  },
  "language_info": {
   "codemirror_mode": {
    "name": "ipython",
    "version": 3
   },
   "file_extension": ".py",
   "mimetype": "text/x-python",
   "name": "python",
   "nbconvert_exporter": "python",
   "pygments_lexer": "ipython3",
   "version": "3.9.6"
  }
 },
 "nbformat": 4,
 "nbformat_minor": 2
}
