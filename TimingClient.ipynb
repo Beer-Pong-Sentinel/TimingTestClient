{
 "cells": [
  {
   "cell_type": "code",
   "execution_count": 9,
   "metadata": {},
   "outputs": [
    {
     "name": "stdout",
     "output_type": "stream",
     "text": [
      "Requirement already satisfied: pyserial in /Library/Frameworks/Python.framework/Versions/3.11/lib/python3.11/site-packages (3.5)\n"
     ]
    }
   ],
   "source": [
    "!pip install pyserial\n",
    "pip install matplotlib"
   ]
  },
  {
   "cell_type": "code",
   "execution_count": null,
   "metadata": {},
   "outputs": [],
   "source": [
    "import serial\n",
    "import matplotlib.pyplot as plt\n",
    "\n",
    "\n",
    "START_TEST        = 0b100\n",
    "BEFORE_SOLENOID   = 0b001\n",
    "AFTER_SOLENOID    = 0b010\n",
    "BEAM_READ         = 0b011 \n",
    "END_TEST          = 0b110   "
   ]
  },
  {
   "cell_type": "code",
   "execution_count": 79,
   "metadata": {},
   "outputs": [],
   "source": [
    "collected_data = []\n",
    "\n",
    "def read_data(ser):\n",
    "    stop = False\n",
    "    while not stop:\n",
    "        if ser.in_waiting >= 7:\n",
    "            data = ser.read(7)\n",
    "            identifier = (data[0] >> 5) & 0x07\n",
    "\n",
    "            if identifier == END_TEST:\n",
    "                stop = True\n",
    "            \n",
    "            delimiter = data[6] & 0xFF\n",
    "                \n",
    "            if delimiter == 0xFF:\n",
    "               # print(f\"Identifier: {identifier}, Analog Value: {analog_value}, Time: {time_micros}\")\n",
    "                collected_data.append(data)\n",
    "            else:\n",
    "                print(\"Delimiter not found, packet discarded.\")\n",
    "\n",
    "if __name__ == \"__main__\":\n",
    "    ser = serial.Serial('/dev/cu.usbserial-110', 9600)  # Adjust the port as needed\n",
    "    read_data(ser)\n"
   ]
  },
  {
   "cell_type": "code",
   "execution_count": 80,
   "metadata": {},
   "outputs": [],
   "source": [
    "identifiers = []\n",
    "analog_values = []\n",
    "time_micros = []\n",
    "\n",
    "for entry in collected_data:\n",
    "    identifier = (entry[0] >> 5) & 0x07\n",
    "\n",
    "    if identifier == BEAM_READ:\n",
    "        analog_value = ((entry[0] & 0x1F) << 5) | ((entry[1] >> 3) & 0x1F)\n",
    "    elif identifier == END_TEST:\n",
    "        stop = True\n",
    "    else:\n",
    "        analog_value = None\n",
    "        time_micro = (entry[2] << 24) | (entry[3] << 16) | (entry[4] << 8) | entry[5]\n",
    "\n",
    "    identifiers.append(identifier)\n",
    "    analog_values.append(analog_value)\n",
    "    time_micros.append(time_micro)\n",
    "\n",
    "\n",
    "time_micros = [x-time_micros[0] for x in time_micros]"
   ]
  },
  {
   "cell_type": "code",
   "execution_count": null,
   "metadata": {},
   "outputs": [],
   "source": [
    "\n",
    "# Sample data (replace with your actual data)\n",
    "identifiers = [\"START_TEST\", \"END_TEST\", \"BEFORE_SOLENOID\", \"AFTER_SOLENOID\", \"OTHER\"]\n",
    "analog_values = [10, 20, 15, 25, 30]\n",
    "time_micros = [1000, 2000, 1500, 2500, 3000]\n",
    "\n",
    "# Plot each point with the specified style and color\n",
    "for identifier, analog_value, time_micro in zip(identifiers, analog_values, time_micros):\n",
    "    if identifier == \"START_TEST\":\n",
    "        plt.scatter(time_micro, analog_value, color='blue', marker='*', label='START_TEST' if 'START_TEST' not in plt.gca().get_legend_handles_labels()[1] else \"\")\n",
    "    elif identifier == \"END_TEST\":\n",
    "        plt.scatter(time_micro, analog_value, color='red', marker='*', label='END_TEST' if 'END_TEST' not in plt.gca().get_legend_handles_labels()[1] else \"\")\n",
    "    elif identifier == \"BEFORE_SOLENOID\":\n",
    "        plt.scatter(time_micro, analog_value, color='yellow', marker='s', label='BEFORE_SOLENOID' if 'BEFORE_SOLENOID' not in plt.gca().get_legend_handles_labels()[1] else \"\")\n",
    "    elif identifier == \"AFTER_SOLENOID\":\n",
    "        plt.scatter(time_micro, analog_value, color='green', marker='s', label='AFTER_SOLENOID' if 'AFTER_SOLENOID' not in plt.gca().get_legend_handles_labels()[1] else \"\")\n",
    "    else:\n",
    "        plt.scatter(time_micro, analog_value, color='black', marker='o', label='OTHER' if 'OTHER' not in plt.gca().get_legend_handles_labels()[1] else \"\")\n",
    "\n",
    "# Adding labels and title\n",
    "plt.xlabel('Time (microseconds)')\n",
    "plt.ylabel('Analog Value')\n",
    "plt.title('Analog Value vs. Time')\n",
    "plt.legend()\n",
    "plt.show()\n"
   ]
  }
 ],
 "metadata": {
  "kernelspec": {
   "display_name": "Python 3",
   "language": "python",
   "name": "python3"
  },
  "language_info": {
   "codemirror_mode": {
    "name": "ipython",
    "version": 3
   },
   "file_extension": ".py",
   "mimetype": "text/x-python",
   "name": "python",
   "nbconvert_exporter": "python",
   "pygments_lexer": "ipython3",
   "version": "3.9.6"
  }
 },
 "nbformat": 4,
 "nbformat_minor": 2
}
