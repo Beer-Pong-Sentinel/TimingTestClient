{
 "cells": [
  {
   "cell_type": "markdown",
   "metadata": {},
   "source": [
    "# Timing Test Simple Client"
   ]
  },
  {
   "cell_type": "code",
   "execution_count": 86,
   "metadata": {},
   "outputs": [
    {
     "name": "stdout",
     "output_type": "stream",
     "text": [
      "Defaulting to user installation because normal site-packages is not writeable\n",
      "Requirement already satisfied: pyserial in /Users/eldadzipori/Library/Python/3.9/lib/python/site-packages (3.5)\n",
      "\u001b[33mWARNING: You are using pip version 21.2.4; however, version 24.1.2 is available.\n",
      "You should consider upgrading via the '/Library/Developer/CommandLineTools/usr/bin/python3 -m pip install --upgrade pip' command.\u001b[0m\n",
      "Defaulting to user installation because normal site-packages is not writeable\n",
      "Collecting matplotlib\n",
      "  Downloading matplotlib-3.9.1-cp39-cp39-macosx_11_0_arm64.whl (7.8 MB)\n",
      "\u001b[K     |████████████████████████████████| 7.8 MB 10.3 MB/s eta 0:00:01\n",
      "\u001b[?25hCollecting fonttools>=4.22.0\n",
      "  Downloading fonttools-4.53.1-cp39-cp39-macosx_11_0_arm64.whl (2.2 MB)\n",
      "\u001b[K     |████████████████████████████████| 2.2 MB 13.6 MB/s eta 0:00:01\n",
      "\u001b[?25hCollecting importlib-resources>=3.2.0\n",
      "  Downloading importlib_resources-6.4.0-py3-none-any.whl (38 kB)\n",
      "Collecting cycler>=0.10\n",
      "  Downloading cycler-0.12.1-py3-none-any.whl (8.3 kB)\n",
      "Requirement already satisfied: python-dateutil>=2.7 in /Users/eldadzipori/Library/Python/3.9/lib/python/site-packages (from matplotlib) (2.8.2)\n",
      "Collecting numpy>=1.23\n",
      "  Downloading numpy-2.0.0-cp39-cp39-macosx_11_0_arm64.whl (13.3 MB)\n",
      "\u001b[K     |████████████████████████████████| 13.3 MB 528 kB/s eta 0:00:01\n",
      "\u001b[?25hCollecting pillow>=8\n",
      "  Downloading pillow-10.4.0-cp39-cp39-macosx_11_0_arm64.whl (3.4 MB)\n",
      "\u001b[K     |████████████████████████████████| 3.4 MB 7.3 MB/s eta 0:00:01\n",
      "\u001b[?25hRequirement already satisfied: packaging>=20.0 in /Users/eldadzipori/Library/Python/3.9/lib/python/site-packages (from matplotlib) (23.1)\n",
      "Collecting kiwisolver>=1.3.1\n",
      "  Downloading kiwisolver-1.4.5-cp39-cp39-macosx_11_0_arm64.whl (66 kB)\n",
      "\u001b[K     |████████████████████████████████| 66 kB 4.8 MB/s eta 0:00:01\n",
      "\u001b[?25hCollecting pyparsing>=2.3.1\n",
      "  Downloading pyparsing-3.1.2-py3-none-any.whl (103 kB)\n",
      "\u001b[K     |████████████████████████████████| 103 kB 2.2 MB/s eta 0:00:01\n",
      "\u001b[?25hCollecting contourpy>=1.0.1\n",
      "  Downloading contourpy-1.2.1-cp39-cp39-macosx_11_0_arm64.whl (244 kB)\n",
      "\u001b[K     |████████████████████████████████| 244 kB 4.2 MB/s eta 0:00:01\n",
      "\u001b[?25hRequirement already satisfied: zipp>=3.1.0 in /Users/eldadzipori/Library/Python/3.9/lib/python/site-packages (from importlib-resources>=3.2.0->matplotlib) (3.16.2)\n",
      "Requirement already satisfied: six>=1.5 in /Library/Developer/CommandLineTools/Library/Frameworks/Python3.framework/Versions/3.9/lib/python3.9/site-packages (from python-dateutil>=2.7->matplotlib) (1.15.0)\n",
      "Installing collected packages: numpy, pyparsing, pillow, kiwisolver, importlib-resources, fonttools, cycler, contourpy, matplotlib\n",
      "Successfully installed contourpy-1.2.1 cycler-0.12.1 fonttools-4.53.1 importlib-resources-6.4.0 kiwisolver-1.4.5 matplotlib-3.9.1 numpy-2.0.0 pillow-10.4.0 pyparsing-3.1.2\n",
      "\u001b[33mWARNING: You are using pip version 21.2.4; however, version 24.1.2 is available.\n",
      "You should consider upgrading via the '/Library/Developer/CommandLineTools/usr/bin/python3 -m pip install --upgrade pip' command.\u001b[0m\n"
     ]
    }
   ],
   "source": [
    "!pip3 install pyserial\n",
    "!pip3 install matplotlib"
   ]
  },
  {
   "cell_type": "markdown",
   "metadata": {},
   "source": [
    "## Constants and imports\n",
    "This must match the STM definitions"
   ]
  },
  {
   "cell_type": "code",
   "execution_count": 2,
   "metadata": {},
   "outputs": [],
   "source": [
    "import serial\n",
    "import matplotlib.pyplot as plt\n",
    "\n",
    "START_TEST        = 0b100\n",
    "BEFORE_SOLENOID   = 0b001\n",
    "AFTER_SOLENOID    = 0b010\n",
    "BEAM_READ         = 0b011 \n",
    "END_TEST          = 0b110   \n",
    "\n",
    "PACKET_SIZE       = 5"
   ]
  },
  {
   "cell_type": "markdown",
   "metadata": {},
   "source": [
    "## Simple data collection\n",
    "Collects all data until an END_TEST is seen"
   ]
  },
  {
   "cell_type": "code",
   "execution_count": 8,
   "metadata": {},
   "outputs": [
    {
     "name": "stdout",
     "output_type": "stream",
     "text": [
      "Identifier: 3, Time: 581606673\n",
      "Identifier: 3, Time: 582400743\n",
      "Identifier: 3, Time: 582997324\n",
      "Identifier: 3, Time: 583479447\n",
      "Identifier: 3, Time: 583900182\n",
      "Identifier: 3, Time: 584234086\n",
      "Identifier: 3, Time: 584437175\n",
      "Identifier: 3, Time: 651770771\n",
      "Identifier: 3, Time: 659901659\n"
     ]
    },
    {
     "ename": "KeyboardInterrupt",
     "evalue": "",
     "output_type": "error",
     "traceback": [
      "\u001b[0;31m---------------------------------------------------------------------------\u001b[0m",
      "\u001b[0;31mKeyboardInterrupt\u001b[0m                         Traceback (most recent call last)",
      "Cell \u001b[0;32mIn[8], line 25\u001b[0m\n\u001b[1;32m     23\u001b[0m \u001b[38;5;28;01mif\u001b[39;00m \u001b[38;5;18m__name__\u001b[39m \u001b[38;5;241m==\u001b[39m \u001b[38;5;124m\"\u001b[39m\u001b[38;5;124m__main__\u001b[39m\u001b[38;5;124m\"\u001b[39m:\n\u001b[1;32m     24\u001b[0m     ser \u001b[38;5;241m=\u001b[39m serial\u001b[38;5;241m.\u001b[39mSerial(\u001b[38;5;124m'\u001b[39m\u001b[38;5;124m/dev/cu.usbserial-110\u001b[39m\u001b[38;5;124m'\u001b[39m, \u001b[38;5;241m9600\u001b[39m)  \u001b[38;5;66;03m# Adjust the port as needed\u001b[39;00m\n\u001b[0;32m---> 25\u001b[0m     \u001b[43mread_data\u001b[49m\u001b[43m(\u001b[49m\u001b[43mser\u001b[49m\u001b[43m)\u001b[49m\n",
      "Cell \u001b[0;32mIn[8], line 6\u001b[0m, in \u001b[0;36mread_data\u001b[0;34m(ser)\u001b[0m\n\u001b[1;32m      4\u001b[0m stop \u001b[38;5;241m=\u001b[39m \u001b[38;5;28;01mFalse\u001b[39;00m\n\u001b[1;32m      5\u001b[0m \u001b[38;5;28;01mwhile\u001b[39;00m \u001b[38;5;129;01mnot\u001b[39;00m stop:\n\u001b[0;32m----> 6\u001b[0m     \u001b[38;5;28;01mif\u001b[39;00m \u001b[43mser\u001b[49m\u001b[38;5;241;43m.\u001b[39;49m\u001b[43min_waiting\u001b[49m \u001b[38;5;241m>\u001b[39m\u001b[38;5;241m=\u001b[39m PACKET_SIZE:\n\u001b[1;32m      7\u001b[0m         data \u001b[38;5;241m=\u001b[39m ser\u001b[38;5;241m.\u001b[39mread(PACKET_SIZE)\n\u001b[1;32m      8\u001b[0m         identifier \u001b[38;5;241m=\u001b[39m (data[\u001b[38;5;241m4\u001b[39m] \u001b[38;5;241m>>\u001b[39m \u001b[38;5;241m5\u001b[39m) \u001b[38;5;241m&\u001b[39m \u001b[38;5;241m0x07\u001b[39m\n",
      "File \u001b[0;32m~/Library/Python/3.9/lib/python/site-packages/serial/serialposix.py:549\u001b[0m, in \u001b[0;36mSerial.in_waiting\u001b[0;34m(self)\u001b[0m\n\u001b[1;32m    547\u001b[0m \u001b[38;5;250m\u001b[39m\u001b[38;5;124;03m\"\"\"Return the number of bytes currently in the input buffer.\"\"\"\u001b[39;00m\n\u001b[1;32m    548\u001b[0m \u001b[38;5;66;03m#~ s = fcntl.ioctl(self.fd, termios.FIONREAD, TIOCM_zero_str)\u001b[39;00m\n\u001b[0;32m--> 549\u001b[0m s \u001b[38;5;241m=\u001b[39m \u001b[43mfcntl\u001b[49m\u001b[38;5;241;43m.\u001b[39;49m\u001b[43mioctl\u001b[49m(\u001b[38;5;28mself\u001b[39m\u001b[38;5;241m.\u001b[39mfd, TIOCINQ, TIOCM_zero_str)\n\u001b[1;32m    550\u001b[0m \u001b[38;5;28;01mreturn\u001b[39;00m struct\u001b[38;5;241m.\u001b[39munpack(\u001b[38;5;124m'\u001b[39m\u001b[38;5;124mI\u001b[39m\u001b[38;5;124m'\u001b[39m, s)[\u001b[38;5;241m0\u001b[39m]\n",
      "\u001b[0;31mKeyboardInterrupt\u001b[0m: "
     ]
    }
   ],
   "source": [
    "collected_data = []\n",
    "\n",
    "def read_data(ser):\n",
    "    stop = False\n",
    "    while not stop:\n",
    "        if ser.in_waiting >= PACKET_SIZE:\n",
    "            data = ser.read(PACKET_SIZE)\n",
    "            identifier = (data[4] >> 5) & 0x07\n",
    "            time_micro = (data[0] << 24) | (data[1] << 16) | (data[2] << 8) | data[3]\n",
    "\n",
    "\n",
    "            if identifier == END_TEST:\n",
    "                stop = True\n",
    "            \n",
    "            delimiter = data[4] & 0x1F\n",
    "                \n",
    "            if delimiter == 0x1F:\n",
    "                collected_data.append(data)\n",
    "                print(f\"Identifier: {identifier}, Time: {time_micro}\")\n",
    "            else:\n",
    "                print(\"Delimiter not found, packet discarded.\")\n",
    "\n",
    "if __name__ == \"__main__\":\n",
    "    ser = serial.Serial('/dev/cu.usbserial-110', 9600)  # Adjust the port as needed\n",
    "    read_data(ser)\n"
   ]
  },
  {
   "cell_type": "code",
   "execution_count": 12,
   "metadata": {},
   "outputs": [],
   "source": [
    "identifiers = []\n",
    "analog_values = []\n",
    "time_micros = []\n",
    "\n",
    "for entry in collected_data:\n",
    "    identifier = (entry[4] >> 5) & 0x07\n",
    "    time_micro = (entry[0] << 24) | (entry[1] << 16) | (entry[2] << 8) | entry[3]\n",
    "\n",
    "    identifiers.append(identifier)\n",
    "    time_micros.append(time_micro)\n",
    "\n",
    "\n",
    "time_micros = [x-time_micros[0] for x in time_micros]"
   ]
  },
  {
   "cell_type": "code",
   "execution_count": 5,
   "metadata": {},
   "outputs": [
    {
     "data": {
      "image/png": "[encoded data removed]",
      "text/plain": [
       "<Figure size 640x480 with 1 Axes>"
      ]
     },
     "metadata": {},
     "output_type": "display_data"
    }
   ],
   "source": [
    "identifiers = [1,2,3,2,2,1,3,4]\n",
    "time_micros = [0,0.1,0.2,0.3,0.4,0.5,0.6,0.7] \n",
    "# Plot each point with the specified style and color\n",
    "for identifier, time_micro in zip(identifiers, time_micros):\n",
    "    if identifier == START_TEST:\n",
    "        plt.scatter(time_micro,0, color='blue', marker='*', label='Start')\n",
    "    elif identifier == END_TEST:\n",
    "        plt.scatter(time_micro, 0, color='red', marker='*', label='End')\n",
    "    elif identifier == BEFORE_SOLENOID:\n",
    "        plt.scatter(time_micro, 0, color='yellow', marker='s', label='Before Trigger')\n",
    "    elif identifier == AFTER_SOLENOID:\n",
    "        plt.scatter(time_micro, 0, color='green', marker='s', label='After Trigger')\n",
    "    else:\n",
    "        plt.scatter(time_micro, 0, color='black', marker='o', label='Beam Broke')\n",
    "\n",
    "# Adding labels and title\n",
    "plt.xlabel('Time (microseconds)')\n",
    "plt.yticks([])  # Hide y-axis\n",
    "plt.title('Analog Value vs. Time')\n",
    "\n",
    "# Remove duplicate labels\n",
    "handles, labels = plt.gca().get_legend_handles_labels()\n",
    "by_label = dict(zip(labels, handles))\n",
    "plt.legend(by_label.values(), by_label.keys())\n",
    "\n",
    "plt.show()\n",
    "\n"
   ]
  },
  {
   "cell_type": "code",
   "execution_count": 6,
   "metadata": {},
   "outputs": [
    {
     "data": {
      "image/png": "[encoded data removed]",
      "text/plain": [
       "<Figure size 640x480 with 1 Axes>"
      ]
     },
     "metadata": {},
     "output_type": "display_data"
    }
   ],
   "source": [
    "# Define colors and markers for each identifier category\n",
    "styles = {\n",
    "    START_TEST: {\"color\": \"blue\", \"marker\": \"*\"},\n",
    "    END_TEST: {\"color\": \"red\", \"marker\": \"*\"},\n",
    "    BEFORE_SOLENOID: {\"color\": \"yellow\", \"marker\": \"s\"},\n",
    "    AFTER_SOLENOID: {\"color\": \"green\", \"marker\": \"s\"},\n",
    "    BEAM_READ: {\"color\": \"black\", \"marker\": \"o\"}\n",
    "}\n",
    "\n",
    "# Plot each point as a vertical line on the x-axis\n",
    "for identifier, time_micro in zip(identifiers, time_micros):\n",
    "    style = styles.get(identifier, styles[identifier])\n",
    "    plt.plot([time_micro, time_micro], [0, 1], color=style[\"color\"])\n",
    "    plt.scatter(time_micro, 0, color=style[\"color\"], marker=style[\"marker\"], label=identifier if identifier not in plt.gca().get_legend_handles_labels()[1] else \"\")\n",
    "\n",
    "# Adding labels and title\n",
    "plt.xlabel('Time (microseconds)')\n",
    "plt.yticks([])  # Hide y-axis\n",
    "plt.title('Event Occurrences Over Time')\n",
    "\n",
    "# Remove duplicate labels\n",
    "handles, labels = plt.gca().get_legend_handles_labels()\n",
    "by_label = dict(zip(labels, handles))\n",
    "plt.legend(by_label.values(), by_label.keys())\n",
    "\n",
    "plt.show()\n"
   ]
  }
 ],
 "metadata": {
  "kernelspec": {
   "display_name": "Python 3",
   "language": "python",
   "name": "python3"
  },
  "language_info": {
   "codemirror_mode": {
    "name": "ipython",
    "version": 3
   },
   "file_extension": ".py",
   "mimetype": "text/x-python",
   "name": "python",
   "nbconvert_exporter": "python",
   "pygments_lexer": "ipython3",
   "version": "3.9.6"
  }
 },
 "nbformat": 4,
 "nbformat_minor": 2
}
