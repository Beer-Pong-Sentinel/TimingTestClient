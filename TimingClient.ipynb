{
 "cells": [
  {
   "cell_type": "code",
   "execution_count": 9,
   "metadata": {},
   "outputs": [
    {
     "name": "stdout",
     "output_type": "stream",
     "text": [
      "Requirement already satisfied: pyserial in /Library/Frameworks/Python.framework/Versions/3.11/lib/python3.11/site-packages (3.5)\n"
     ]
    }
   ],
   "source": [
    "!pip install pyserial"
   ]
  },
  {
   "cell_type": "code",
   "execution_count": 54,
   "metadata": {},
   "outputs": [
    {
     "name": "stdout",
     "output_type": "stream",
     "text": [
      "Identifier: 3, Analog Value: 1023, Time: 314137336\n",
      "Identifier: 3, Analog Value: 1023, Time: 314932616\n",
      "Identifier: 3, Analog Value: 1023, Time: 315905112\n",
      "Identifier: 3, Analog Value: 1023, Time: 316490942\n"
     ]
    }
   ],
   "source": [
    "import serial\n",
    "\n",
    "START_TEST        = 0b100\n",
    "BEFORE_SOLENOID   = 0b001\n",
    "AFTER_SOLENOID    = 0b010\n",
    "BEAM_READ         = 0b011 \n",
    "END_TEST          = 0b110   \n",
    "\n",
    "\n",
    "def read_data(ser):\n",
    "    while True:\n",
    "        if ser.in_waiting >= 7:\n",
    "            data = ser.read(7)\n",
    "            identifier = (data[0] >> 5) & 0x03\n",
    "\n",
    "            if identifier == BEAM_READ:\n",
    "                analog_value = ((data[0] & 0x1F) << 5) | ((data[1] >> 3) & 0x1F)\n",
    "            else:\n",
    "                analog_value = None\n",
    "            time_micros = (data[2] << 24) | (data[3] << 16) | (data[4] << 8) | data[5]\n",
    "            \n",
    "            \n",
    "            delimiter = data[6] & 0xFF\n",
    "                \n",
    "            if delimiter == 0xFF:\n",
    "                print(f\"Identifier: {identifier}, Analog Value: {analog_value}, Time: {time_micros}\")\n",
    "            else:\n",
    "                print(\"Delimiter not found, packet discarded.\")\n",
    "\n",
    "if __name__ == \"__main__\":\n",
    "    ser = serial.Serial('/dev/cu.usbserial-110', 9600)  # Adjust the port as needed\n",
    "    read_data(ser)\n"
   ]
  }
 ],
 "metadata": {
  "kernelspec": {
   "display_name": "Python 3",
   "language": "python",
   "name": "python3"
  },
  "language_info": {
   "codemirror_mode": {
    "name": "ipython",
    "version": 3
   },
   "file_extension": ".py",
   "mimetype": "text/x-python",
   "name": "python",
   "nbconvert_exporter": "python",
   "pygments_lexer": "ipython3",
   "version": "3.9.6"
  }
 },
 "nbformat": 4,
 "nbformat_minor": 2
}
