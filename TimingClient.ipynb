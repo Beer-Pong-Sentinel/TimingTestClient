{
 "cells": [
  {
   "cell_type": "markdown",
   "metadata": {},
   "source": [
    "# Timing Test Simple Client"
   ]
  },
  {
   "cell_type": "code",
   "execution_count": 86,
   "metadata": {},
   "outputs": [
    {
     "name": "stdout",
     "output_type": "stream",
     "text": [
      "Defaulting to user installation because normal site-packages is not writeable\n",
      "Requirement already satisfied: pyserial in /Users/eldadzipori/Library/Python/3.9/lib/python/site-packages (3.5)\n",
      "\u001b[33mWARNING: You are using pip version 21.2.4; however, version 24.1.2 is available.\n",
      "You should consider upgrading via the '/Library/Developer/CommandLineTools/usr/bin/python3 -m pip install --upgrade pip' command.\u001b[0m\n",
      "Defaulting to user installation because normal site-packages is not writeable\n",
      "Collecting matplotlib\n",
      "  Downloading matplotlib-3.9.1-cp39-cp39-macosx_11_0_arm64.whl (7.8 MB)\n",
      "\u001b[K     |████████████████████████████████| 7.8 MB 10.3 MB/s eta 0:00:01\n",
      "\u001b[?25hCollecting fonttools>=4.22.0\n",
      "  Downloading fonttools-4.53.1-cp39-cp39-macosx_11_0_arm64.whl (2.2 MB)\n",
      "\u001b[K     |████████████████████████████████| 2.2 MB 13.6 MB/s eta 0:00:01\n",
      "\u001b[?25hCollecting importlib-resources>=3.2.0\n",
      "  Downloading importlib_resources-6.4.0-py3-none-any.whl (38 kB)\n",
      "Collecting cycler>=0.10\n",
      "  Downloading cycler-0.12.1-py3-none-any.whl (8.3 kB)\n",
      "Requirement already satisfied: python-dateutil>=2.7 in /Users/eldadzipori/Library/Python/3.9/lib/python/site-packages (from matplotlib) (2.8.2)\n",
      "Collecting numpy>=1.23\n",
      "  Downloading numpy-2.0.0-cp39-cp39-macosx_11_0_arm64.whl (13.3 MB)\n",
      "\u001b[K     |████████████████████████████████| 13.3 MB 528 kB/s eta 0:00:01\n",
      "\u001b[?25hCollecting pillow>=8\n",
      "  Downloading pillow-10.4.0-cp39-cp39-macosx_11_0_arm64.whl (3.4 MB)\n",
      "\u001b[K     |████████████████████████████████| 3.4 MB 7.3 MB/s eta 0:00:01\n",
      "\u001b[?25hRequirement already satisfied: packaging>=20.0 in /Users/eldadzipori/Library/Python/3.9/lib/python/site-packages (from matplotlib) (23.1)\n",
      "Collecting kiwisolver>=1.3.1\n",
      "  Downloading kiwisolver-1.4.5-cp39-cp39-macosx_11_0_arm64.whl (66 kB)\n",
      "\u001b[K     |████████████████████████████████| 66 kB 4.8 MB/s eta 0:00:01\n",
      "\u001b[?25hCollecting pyparsing>=2.3.1\n",
      "  Downloading pyparsing-3.1.2-py3-none-any.whl (103 kB)\n",
      "\u001b[K     |████████████████████████████████| 103 kB 2.2 MB/s eta 0:00:01\n",
      "\u001b[?25hCollecting contourpy>=1.0.1\n",
      "  Downloading contourpy-1.2.1-cp39-cp39-macosx_11_0_arm64.whl (244 kB)\n",
      "\u001b[K     |████████████████████████████████| 244 kB 4.2 MB/s eta 0:00:01\n",
      "\u001b[?25hRequirement already satisfied: zipp>=3.1.0 in /Users/eldadzipori/Library/Python/3.9/lib/python/site-packages (from importlib-resources>=3.2.0->matplotlib) (3.16.2)\n",
      "Requirement already satisfied: six>=1.5 in /Library/Developer/CommandLineTools/Library/Frameworks/Python3.framework/Versions/3.9/lib/python3.9/site-packages (from python-dateutil>=2.7->matplotlib) (1.15.0)\n",
      "Installing collected packages: numpy, pyparsing, pillow, kiwisolver, importlib-resources, fonttools, cycler, contourpy, matplotlib\n",
      "Successfully installed contourpy-1.2.1 cycler-0.12.1 fonttools-4.53.1 importlib-resources-6.4.0 kiwisolver-1.4.5 matplotlib-3.9.1 numpy-2.0.0 pillow-10.4.0 pyparsing-3.1.2\n",
      "\u001b[33mWARNING: You are using pip version 21.2.4; however, version 24.1.2 is available.\n",
      "You should consider upgrading via the '/Library/Developer/CommandLineTools/usr/bin/python3 -m pip install --upgrade pip' command.\u001b[0m\n"
     ]
    }
   ],
   "source": [
    "!pip3 install pyserial\n",
    "!pip3 install matplotlib"
   ]
  },
  {
   "cell_type": "markdown",
   "metadata": {},
   "source": [
    "## Constants and imports\n",
    "This must match the STM definitions"
   ]
  },
  {
   "cell_type": "code",
   "execution_count": 2,
   "metadata": {},
   "outputs": [],
   "source": [
    "import serial\n",
    "import matplotlib.pyplot as plt\n",
    "\n",
    "START_TEST        = 0b100\n",
    "BEFORE_SOLENOID   = 0b001\n",
    "AFTER_SOLENOID    = 0b010\n",
    "BEAM_READ         = 0b011 \n",
    "END_TEST          = 0b110   \n",
    "\n",
    "PACKET_SIZE       = 5"
   ]
  },
  {
   "cell_type": "markdown",
   "metadata": {},
   "source": [
    "## Simple data collection\n",
    "Collects all data until an END_TEST is seen"
   ]
  },
  {
   "cell_type": "code",
   "execution_count": 28,
   "metadata": {},
   "outputs": [
    {
     "name": "stdout",
     "output_type": "stream",
     "text": [
      "Identifier: 4, Time: 117515007\n",
      "Identifier: 1, Time: 117515017\n",
      "Identifier: 2, Time: 117590003\n",
      "Identifier: 3, Time: 121876085\n",
      "Identifier: 6, Time: 121876095\n"
     ]
    }
   ],
   "source": [
    "collected_data = []\n",
    "\n",
    "def read_data(ser):\n",
    "    stop = False\n",
    "    while not stop:\n",
    "        if ser.in_waiting >= PACKET_SIZE:\n",
    "            data = ser.read(PACKET_SIZE)\n",
    "            identifier = (data[4] >> 5) & 0x07\n",
    "            time_micro = (data[0] << 24) | (data[1] << 16) | (data[2] << 8) | data[3]\n",
    "\n",
    "\n",
    "            if identifier == END_TEST:\n",
    "                stop = True\n",
    "            \n",
    "            delimiter = data[4] & 0x1F\n",
    "                \n",
    "            if delimiter == 0x1F:\n",
    "                collected_data.append(data)\n",
    "                print(f\"Identifier: {identifier}, Time: {time_micro}\")\n",
    "            else:\n",
    "                print(\"Delimiter not found, packet discarded.\")\n",
    "\n",
    "if __name__ == \"__main__\":\n",
    "    ser = serial.Serial('/dev/cu.usbserial-110', 9600)  # Adjust the port as needed\n",
    "    read_data(ser)\n"
   ]
  },
  {
   "cell_type": "code",
   "execution_count": 26,
   "metadata": {},
   "outputs": [],
   "source": [
    "identifiers = []\n",
    "analog_values = []\n",
    "time_micros = []\n",
    "\n",
    "for entry in collected_data:\n",
    "    identifier = (entry[4] >> 5) & 0x07\n",
    "    time_micro = (entry[0] << 24) | (entry[1] << 16) | (entry[2] << 8) | entry[3]\n",
    "\n",
    "    identifiers.append(identifier)\n",
    "    time_micros.append(time_micro)\n",
    "\n",
    "\n",
    "time_micros = [(x-time_micros[0])/(1e6) for x in time_micros]"
   ]
  },
  {
   "cell_type": "code",
   "execution_count": 30,
   "metadata": {},
   "outputs": [
    {
     "data": {
      "image/png": "[encoded data removed]",
      "text/plain": [
       "<Figure size 640x480 with 1 Axes>"
      ]
     },
     "metadata": {},
     "output_type": "display_data"
    }
   ],
   "source": [
    "# Plot each point with the specified style and color\n",
    "for identifier, time_micro in zip(identifiers, time_micros):\n",
    "    if identifier == START_TEST:\n",
    "        plt.scatter(time_micro,0, color='blue', marker='*', label='Start')\n",
    "    elif identifier == END_TEST:\n",
    "        plt.scatter(time_micro, 0, color='red', marker='*', label='End')\n",
    "    elif identifier == BEFORE_SOLENOID:\n",
    "        plt.scatter(time_micro, 0, color='purple', marker='s', label='Before Trigger')\n",
    "    elif identifier == AFTER_SOLENOID:\n",
    "        plt.scatter(time_micro, 0, color='green', marker='s', label='After Trigger')\n",
    "    else:\n",
    "        plt.scatter(time_micro, 0, color='black', marker='o', label='Beam Broke')\n",
    "\n",
    "# Adding labels and title\n",
    "plt.xlabel('Time (microseconds)')\n",
    "plt.yticks([])  # Hide y-axis\n",
    "#plt.title('Analog Value vs. Time')\n",
    "\n",
    "# Remove duplicate labels\n",
    "handles, labels = plt.gca().get_legend_handles_labels()\n",
    "by_label = dict(zip(labels, handles))\n",
    "plt.legend(by_label.values(), by_label.keys())\n",
    "\n",
    "plt.show()\n",
    "\n"
   ]
  },
  {
   "cell_type": "code",
   "execution_count": 6,
   "metadata": {},
   "outputs": [
    {
     "data": {
      "image/png": "[encoded data removed]",
      "text/plain": [
       "<Figure size 640x480 with 1 Axes>"
      ]
     },
     "metadata": {},
     "output_type": "display_data"
    }
   ],
   "source": [
    "# Define colors and markers for each identifier category\n",
    "styles = {\n",
    "    START_TEST: {\"color\": \"blue\", \"marker\": \"*\"},\n",
    "    END_TEST: {\"color\": \"red\", \"marker\": \"*\"},\n",
    "    BEFORE_SOLENOID: {\"color\": \"yellow\", \"marker\": \"s\"},\n",
    "    AFTER_SOLENOID: {\"color\": \"green\", \"marker\": \"s\"},\n",
    "    BEAM_READ: {\"color\": \"black\", \"marker\": \"o\"}\n",
    "}\n",
    "\n",
    "# Plot each point as a vertical line on the x-axis\n",
    "for identifier, time_micro in zip(identifiers, time_micros):\n",
    "    style = styles.get(identifier, styles[identifier])\n",
    "    plt.plot([time_micro, time_micro], [0, 1], color=style[\"color\"])\n",
    "    plt.scatter(time_micro, 0, color=style[\"color\"], marker=style[\"marker\"], label=identifier if identifier not in plt.gca().get_legend_handles_labels()[1] else \"\")\n",
    "\n",
    "# Adding labels and title\n",
    "plt.xlabel('Time (microseconds)')\n",
    "plt.yticks([])  # Hide y-axis\n",
    "plt.title('Event Occurrences Over Time')\n",
    "\n",
    "# Remove duplicate labels\n",
    "handles, labels = plt.gca().get_legend_handles_labels()\n",
    "by_label = dict(zip(labels, handles))\n",
    "plt.legend(by_label.values(), by_label.keys())\n",
    "\n",
    "plt.show()\n"
   ]
  }
 ],
 "metadata": {
  "kernelspec": {
   "display_name": "Python 3",
   "language": "python",
   "name": "python3"
  },
  "language_info": {
   "codemirror_mode": {
    "name": "ipython",
    "version": 3
   },
   "file_extension": ".py",
   "mimetype": "text/x-python",
   "name": "python",
   "nbconvert_exporter": "python",
   "pygments_lexer": "ipython3",
   "version": "3.9.6"
  }
 },
 "nbformat": 4,
 "nbformat_minor": 2
}
