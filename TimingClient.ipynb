{
 "cells": [
  {
   "cell_type": "code",
   "execution_count": 9,
   "metadata": {},
   "outputs": [
    {
     "name": "stdout",
     "output_type": "stream",
     "text": [
      "Requirement already satisfied: pyserial in /Library/Frameworks/Python.framework/Versions/3.11/lib/python3.11/site-packages (3.5)\n"
     ]
    }
   ],
   "source": [
    "!pip install pyserial"
   ]
  },
  {
   "cell_type": "code",
   "execution_count": 65,
   "metadata": {},
   "outputs": [
    {
     "name": "stdout",
     "output_type": "stream",
     "text": [
      "Identifier: 4, Analog Value: None, Time: 65343055\n",
      "Identifier: 1, Analog Value: None, Time: 65343065\n",
      "Identifier: 2, Analog Value: None, Time: 65443003\n",
      "Identifier: 3, Analog Value: 41, Time: 65443098\n",
      "Identifier: 3, Analog Value: 41, Time: 65443189\n",
      "Identifier: 3, Analog Value: 40, Time: 65443279\n",
      "Identifier: 3, Analog Value: 41, Time: 65443369\n",
      "Identifier: 3, Analog Value: 41, Time: 65443459\n",
      "Identifier: 3, Analog Value: 41, Time: 65443554\n",
      "Identifier: 3, Analog Value: 41, Time: 65443644\n",
      "Identifier: 3, Analog Value: 41, Time: 65443734\n",
      "Identifier: 3, Analog Value: 41, Time: 65443824\n",
      "Identifier: 3, Analog Value: 41, Time: 65450486\n",
      "Identifier: 3, Analog Value: 41, Time: 65480798\n",
      "Identifier: 3, Analog Value: 41, Time: 65480891\n",
      "Identifier: 3, Analog Value: 41, Time: 65480981\n",
      "Identifier: 3, Analog Value: 41, Time: 65481072\n",
      "Identifier: 3, Analog Value: 41, Time: 65516321\n",
      "Identifier: 3, Analog Value: 41, Time: 65516414\n",
      "Identifier: 3, Analog Value: 42, Time: 65516504\n",
      "Identifier: 3, Analog Value: 41, Time: 65516594\n",
      "Identifier: 3, Analog Value: 41, Time: 65516685\n",
      "Identifier: 3, Analog Value: 41, Time: 65546632\n",
      "Identifier: 3, Analog Value: 41, Time: 65546722\n",
      "Identifier: 3, Analog Value: 41, Time: 65546812\n",
      "Identifier: 3, Analog Value: 42, Time: 65546902\n",
      "Identifier: 3, Analog Value: 41, Time: 65612467\n",
      "Identifier: 3, Analog Value: 41, Time: 65612557\n",
      "Identifier: 3, Analog Value: 41, Time: 65612648\n",
      "Identifier: 3, Analog Value: 41, Time: 65612738\n",
      "Identifier: 3, Analog Value: 41, Time: 65612828\n",
      "Identifier: 3, Analog Value: 41, Time: 65612918\n",
      "Identifier: 3, Analog Value: 41, Time: 65613009\n",
      "Identifier: 3, Analog Value: 41, Time: 65613100\n",
      "Identifier: 3, Analog Value: 41, Time: 65613190\n",
      "Identifier: 3, Analog Value: 1023, Time: 65679446\n",
      "Identifier: 6, Analog Value: 1023, Time: 65679452\n"
     ]
    }
   ],
   "source": [
    "import serial\n",
    "\n",
    "START_TEST        = 0b100\n",
    "BEFORE_SOLENOID   = 0b001\n",
    "AFTER_SOLENOID    = 0b010\n",
    "BEAM_READ         = 0b011 \n",
    "END_TEST          = 0b110   \n",
    "\n",
    "collected_data = []\n",
    "\n",
    "def read_data(ser):\n",
    "    stop = False\n",
    "    while not stop:\n",
    "        if ser.in_waiting >= 7:\n",
    "            data = ser.read(7)\n",
    "        \n",
    "            identifier = (data[0] >> 5) & 0x07\n",
    "            if identifier == END_TEST:\n",
    "                stop = True\n",
    "            \n",
    "            delimiter = data[6] & 0xFF\n",
    "                \n",
    "            if delimiter == 0xFF:\n",
    "                collected_data.append(data)\n",
    "               # print(f\"Identifier: {identifier}, Analog Value: {analog_value}, Time: {time_micros}\")\n",
    "            else:\n",
    "                print(\"Delimiter not found, packet discarded.\")\n",
    "\n",
    "if __name__ == \"__main__\":\n",
    "    ser = serial.Serial('/dev/cu.usbserial-110', 9600)  # Adjust the port as needed\n",
    "    read_data(ser)\n"
   ]
  },
  {
   "cell_type": "code",
   "execution_count": null,
   "metadata": {},
   "outputs": [],
   "source": [
    "identifier = (data[0] >> 5) & 0x07\n",
    "\n",
    "if identifier == BEAM_READ:\n",
    "    analog_value = ((data[0] & 0x1F) << 5) | ((data[1] >> 3) & 0x1F)\n",
    "elif identifier == END_TEST:\n",
    "    stop = True\n",
    "else:\n",
    "    analog_value = None\n",
    "    time_micros = (data[2] << 24) | (data[3] << 16) | (data[4] << 8) | data[5]"
   ]
  }
 ],
 "metadata": {
  "kernelspec": {
   "display_name": "Python 3",
   "language": "python",
   "name": "python3"
  },
  "language_info": {
   "codemirror_mode": {
    "name": "ipython",
    "version": 3
   },
   "file_extension": ".py",
   "mimetype": "text/x-python",
   "name": "python",
   "nbconvert_exporter": "python",
   "pygments_lexer": "ipython3",
   "version": "3.9.6"
  }
 },
 "nbformat": 4,
 "nbformat_minor": 2
}
